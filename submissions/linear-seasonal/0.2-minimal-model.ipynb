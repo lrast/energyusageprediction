{
 "cells": [
  {
   "cell_type": "code",
   "execution_count": null,
   "metadata": {
    "execution": {
     "iopub.execute_input": "2023-11-29T00:12:38.342246Z",
     "iopub.status.busy": "2023-11-29T00:12:38.341915Z",
     "iopub.status.idle": "2023-11-29T00:12:40.389533Z",
     "shell.execute_reply": "2023-11-29T00:12:40.388478Z",
     "shell.execute_reply.started": "2023-11-29T00:12:38.342217Z"
    }
   },
   "outputs": [],
   "source": [
    "import pandas as pd\n",
    "import numpy as np\n",
    "\n",
    "import polars as pl\n",
    "import datetime\n",
    "\n",
    "import lightgbm as lgb\n",
    "\n",
    "from sklearn.linear_model import LinearRegression\n"
   ]
  },
  {
   "cell_type": "markdown",
   "metadata": {},
   "source": [
    "# Utilities and feature extractors for an initial submission"
   ]
  },
  {
   "cell_type": "markdown",
   "metadata": {},
   "source": [
    "### Utilities: dataframe formatting for online data"
   ]
  },
  {
   "cell_type": "code",
   "execution_count": null,
   "metadata": {
    "execution": {
     "iopub.execute_input": "2023-11-29T00:12:40.391945Z",
     "iopub.status.busy": "2023-11-29T00:12:40.391401Z",
     "iopub.status.idle": "2023-11-29T00:12:40.402058Z",
     "shell.execute_reply": "2023-11-29T00:12:40.400782Z",
     "shell.execute_reply.started": "2023-11-29T00:12:40.391874Z"
    }
   },
   "outputs": [],
   "source": [
    "def format_dfs(*batch_inputs):\n",
    "    \"\"\" dataframe formatting for online use \"\"\"\n",
    "    batch_inputs = list(batch_inputs)\n",
    "    for i, input_data in enumerate(batch_inputs):\n",
    "        batch_inputs[i] = pl.from_pandas(input_data)\n",
    "    (test, client) = batch_inputs\n",
    "\n",
    "    test = test.with_columns(\n",
    "                pl.col('prediction_datetime').str.to_datetime(),\n",
    "                (pl.col('prediction_datetime').str.to_datetime().dt.date() +\n",
    "                    datetime.timedelta(days=-2)\n",
    "                    ).alias('date_when_predicting')\n",
    "              )\n",
    "\n",
    "    client = client.with_columns( pl.col('date').str.to_date())\n",
    "    \n",
    "    #return (test, revealed_targets, client, \n",
    "    #        weatherHistorical, weatherForecast,\n",
    "    #        electricityPrices, gasPrices, sample_prediction)\n",
    "\n",
    "    return test, client\n",
    "\n"
   ]
  },
  {
   "cell_type": "markdown",
   "metadata": {},
   "source": [
    "#### Date Note:\n",
    "We want to predict targets using the data from two days previous"
   ]
  },
  {
   "cell_type": "code",
   "execution_count": null,
   "metadata": {
    "execution": {
     "iopub.execute_input": "2023-11-29T00:12:40.404669Z",
     "iopub.status.busy": "2023-11-29T00:12:40.403877Z",
     "iopub.status.idle": "2023-11-29T00:12:43.682801Z",
     "shell.execute_reply": "2023-11-29T00:12:43.681341Z",
     "shell.execute_reply.started": "2023-11-29T00:12:40.404621Z"
    }
   },
   "outputs": [],
   "source": [
    "# load data\n",
    "dataLocation = '/kaggle/input/predict-energy-behavior-of-prosumers/'\n",
    "\n",
    "train = pd.read_csv(dataLocation+'train.csv')\n",
    "clients = pd.read_csv(dataLocation+'client.csv')\n",
    "\n",
    "# drop na values from training\n",
    "train.dropna(axis='index', inplace=True)\n",
    "\n",
    "train, clients = format_dfs(train.rename(columns={'datetime':'prediction_datetime'}),clients)\n"
   ]
  },
  {
   "cell_type": "code",
   "execution_count": null,
   "metadata": {
    "execution": {
     "iopub.execute_input": "2023-11-29T00:12:43.686228Z",
     "iopub.status.busy": "2023-11-29T00:12:43.685843Z",
     "iopub.status.idle": "2023-11-29T00:12:43.693688Z",
     "shell.execute_reply": "2023-11-29T00:12:43.692767Z",
     "shell.execute_reply.started": "2023-11-29T00:12:43.686196Z"
    }
   },
   "outputs": [],
   "source": [
    "# make features: targets\n",
    "\n",
    "def make_targets(train):\n",
    "    \"\"\" Preprocess the training features, using log(x+1) transformed targets \"\"\"\n",
    "    train = train.drop(['county', 'is_business', 'product_type', 'prediction_datetime',\n",
    "                        'data_block_id', 'prediction_unit_id', 'date_when_predicting'])\n",
    "    return train.with_columns( np.log1p(pl.col('target')) )\n",
    "\n",
    "def raw_targets( targets):\n",
    "    \"\"\" Undo the preprocessing to make the raw features \"\"\"\n",
    "    return targets.with_columns( np.expm1( pl.col('target')))\n"
   ]
  },
  {
   "cell_type": "code",
   "execution_count": null,
   "metadata": {
    "execution": {
     "iopub.execute_input": "2023-11-29T00:12:43.695547Z",
     "iopub.status.busy": "2023-11-29T00:12:43.695139Z",
     "iopub.status.idle": "2023-11-29T00:12:44.330396Z",
     "shell.execute_reply": "2023-11-29T00:12:44.328122Z",
     "shell.execute_reply.started": "2023-11-29T00:12:43.695518Z"
    }
   },
   "outputs": [],
   "source": [
    "targets = make_targets(train)\n",
    "targets.to_pandas().plot(y='target', kind='hist', bins=15)"
   ]
  },
  {
   "cell_type": "markdown",
   "metadata": {},
   "source": [
    "This target distribution, while not entirely normal is much closer than before"
   ]
  },
  {
   "cell_type": "code",
   "execution_count": null,
   "metadata": {
    "execution": {
     "iopub.execute_input": "2023-11-29T00:12:44.33238Z",
     "iopub.status.busy": "2023-11-29T00:12:44.332018Z",
     "iopub.status.idle": "2023-11-29T00:12:44.360193Z",
     "shell.execute_reply": "2023-11-29T00:12:44.359035Z",
     "shell.execute_reply.started": "2023-11-29T00:12:44.332348Z"
    }
   },
   "outputs": [],
   "source": [
    "# make deterministic time dependent features\n",
    "from statsmodels.tsa.deterministic import CalendarFourier, DeterministicProcess\n",
    "\n",
    "def make_date_process(train):\n",
    "    dates = pd.date_range( train['prediction_datetime'].dt.date().min(),\n",
    "                          train['prediction_datetime'].dt.date().max() )\n",
    "    fourier = CalendarFourier(freq=\"A\", order=6) \n",
    "    date_process = DeterministicProcess(dates,\n",
    "                           constant=True,\n",
    "                           order=1,\n",
    "                           seasonal=True,\n",
    "                           period=7,\n",
    "                           additional_terms=[fourier]\n",
    "                          )\n",
    "    return date_process\n"
   ]
  },
  {
   "cell_type": "code",
   "execution_count": null,
   "metadata": {},
   "outputs": [],
   "source": []
  },
  {
   "cell_type": "code",
   "execution_count": null,
   "metadata": {
    "execution": {
     "iopub.execute_input": "2023-11-29T00:12:44.362041Z",
     "iopub.status.busy": "2023-11-29T00:12:44.361683Z",
     "iopub.status.idle": "2023-11-29T00:12:44.371007Z",
     "shell.execute_reply": "2023-11-29T00:12:44.369604Z",
     "shell.execute_reply.started": "2023-11-29T00:12:44.362012Z"
    }
   },
   "outputs": [],
   "source": [
    "def make_regression_features(train, clients, date_process):\n",
    "    \"\"\" input features for the regression\"\"\"\n",
    "    # question: does polars to_dummies result in linear dependencies?\n",
    "    features = train.join(clients, \n",
    "                          left_on=['county', 'is_business', 'product_type', 'date_when_predicting'],\n",
    "                          right_on=['county', 'is_business', 'product_type', 'date'],\n",
    "                          how='inner' )\n",
    "\n",
    "    # covariates\n",
    "    unit_ids = features['prediction_unit_id'].to_dummies()\n",
    "    features = features.with_columns( np.log1p( pl.col('installed_capacity')))\n",
    "    \n",
    "\n",
    "    # seasonal components\n",
    "    # to add: local holidays\n",
    "    times = features['prediction_datetime'].dt.time().to_dummies()\n",
    "    features = features.with_columns( pl.col('prediction_datetime').dt.date().alias('prediction_date'))\n",
    "    date_features = date_process.range(\n",
    "                                       features['prediction_date'].min(),\n",
    "                                       features['prediction_date'].max()\n",
    "                                      ).reset_index()\n",
    "    date_features = pl.from_pandas( date_features ).with_columns(pl.col('index').dt.date())\n",
    "\n",
    "    features = features.join(date_features, left_on=['prediction_date'], right_on=['index'], how='left')\n",
    "    \n",
    "    \n",
    "    # some of these features should be included in the future\n",
    "    columns_to_drop = ['target', 'data_block_id', 'data_block_id_right', 'prediction_date',\n",
    "                       'prediction_datetime', 'prediction_unit_id', 'date_when_predicting',\n",
    "                       'county', 'is_business', 'product_type', 'eic_count'\n",
    "                      ]\n",
    "    features = features.drop(columns_to_drop)\n",
    "    \n",
    "    return pl.concat([features, unit_ids, times], how='horizontal')\n"
   ]
  },
  {
   "cell_type": "code",
   "execution_count": null,
   "metadata": {},
   "outputs": [],
   "source": []
  },
  {
   "cell_type": "markdown",
   "metadata": {},
   "source": [
    "### Process the training data"
   ]
  },
  {
   "cell_type": "code",
   "execution_count": null,
   "metadata": {
    "execution": {
     "iopub.execute_input": "2023-11-29T00:12:44.373021Z",
     "iopub.status.busy": "2023-11-29T00:12:44.372669Z",
     "iopub.status.idle": "2023-11-29T00:12:45.365349Z",
     "shell.execute_reply": "2023-11-29T00:12:45.36428Z",
     "shell.execute_reply.started": "2023-11-29T00:12:44.372975Z"
    }
   },
   "outputs": [],
   "source": [
    "### formatting the training data\n",
    "date_process = make_date_process(train)\n",
    "targets = make_targets(train)\n",
    "features = make_regression_features(train, clients, date_process)"
   ]
  },
  {
   "cell_type": "code",
   "execution_count": null,
   "metadata": {},
   "outputs": [],
   "source": []
  },
  {
   "cell_type": "code",
   "execution_count": null,
   "metadata": {
    "execution": {
     "iopub.execute_input": "2023-11-29T00:12:45.368303Z",
     "iopub.status.busy": "2023-11-29T00:12:45.367346Z",
     "iopub.status.idle": "2023-11-29T00:12:47.058508Z",
     "shell.execute_reply": "2023-11-29T00:12:47.056989Z",
     "shell.execute_reply.started": "2023-11-29T00:12:45.368256Z"
    }
   },
   "outputs": [],
   "source": [
    "trainSet = targets.join(features, on='row_id', how='inner')\n",
    "productionSet = trainSet.filter(pl.col('is_consumption') == 0).drop(['is_consumption', 'is_consumption_right']).to_pandas().set_index('row_id')\n",
    "consumptionSet = trainSet.filter(pl.col('is_consumption') == 1).drop(['is_consumption', 'is_consumption_right']).to_pandas().set_index('row_id')"
   ]
  },
  {
   "cell_type": "code",
   "execution_count": null,
   "metadata": {
    "execution": {
     "iopub.execute_input": "2023-11-29T00:12:47.060679Z",
     "iopub.status.busy": "2023-11-29T00:12:47.060215Z",
     "iopub.status.idle": "2023-11-29T00:12:47.399084Z",
     "shell.execute_reply": "2023-11-29T00:12:47.397737Z",
     "shell.execute_reply.started": "2023-11-29T00:12:47.060637Z"
    }
   },
   "outputs": [],
   "source": [
    "consumptionTargets = consumptionSet['target']\n",
    "consumptionInputs = consumptionSet.drop(columns='target')"
   ]
  },
  {
   "cell_type": "code",
   "execution_count": null,
   "metadata": {
    "execution": {
     "iopub.execute_input": "2023-11-29T00:12:47.401875Z",
     "iopub.status.busy": "2023-11-29T00:12:47.400747Z",
     "iopub.status.idle": "2023-11-29T00:12:47.731506Z",
     "shell.execute_reply": "2023-11-29T00:12:47.730301Z",
     "shell.execute_reply.started": "2023-11-29T00:12:47.40182Z"
    }
   },
   "outputs": [],
   "source": [
    "productionTargets = productionSet['target']\n",
    "productionInputs = productionSet.drop(columns='target')"
   ]
  },
  {
   "cell_type": "markdown",
   "metadata": {},
   "source": [
    "### Train the linear regression model"
   ]
  },
  {
   "cell_type": "code",
   "execution_count": null,
   "metadata": {
    "execution": {
     "iopub.execute_input": "2023-11-29T00:12:47.734021Z",
     "iopub.status.busy": "2023-11-29T00:12:47.733307Z",
     "iopub.status.idle": "2023-11-29T00:12:47.738764Z",
     "shell.execute_reply": "2023-11-29T00:12:47.737667Z",
     "shell.execute_reply.started": "2023-11-29T00:12:47.733986Z"
    }
   },
   "outputs": [],
   "source": [
    "consumptionModel = LinearRegression()\n",
    "productionModel = LinearRegression()"
   ]
  },
  {
   "cell_type": "code",
   "execution_count": null,
   "metadata": {
    "execution": {
     "iopub.execute_input": "2023-11-29T00:12:47.742894Z",
     "iopub.status.busy": "2023-11-29T00:12:47.742504Z",
     "iopub.status.idle": "2023-11-29T00:13:05.358325Z",
     "shell.execute_reply": "2023-11-29T00:13:05.357025Z",
     "shell.execute_reply.started": "2023-11-29T00:12:47.742858Z"
    }
   },
   "outputs": [],
   "source": [
    "consumptionModel.fit(consumptionInputs, consumptionTargets)"
   ]
  },
  {
   "cell_type": "code",
   "execution_count": null,
   "metadata": {
    "execution": {
     "iopub.execute_input": "2023-11-29T00:13:05.36735Z",
     "iopub.status.busy": "2023-11-29T00:13:05.360019Z",
     "iopub.status.idle": "2023-11-29T00:13:06.009446Z",
     "shell.execute_reply": "2023-11-29T00:13:06.008189Z",
     "shell.execute_reply.started": "2023-11-29T00:13:05.367292Z"
    }
   },
   "outputs": [],
   "source": [
    "consumptionModel.score(consumptionInputs, consumptionTargets)"
   ]
  },
  {
   "cell_type": "code",
   "execution_count": null,
   "metadata": {
    "execution": {
     "iopub.execute_input": "2023-11-29T00:13:06.012484Z",
     "iopub.status.busy": "2023-11-29T00:13:06.011608Z",
     "iopub.status.idle": "2023-11-29T00:13:24.084703Z",
     "shell.execute_reply": "2023-11-29T00:13:24.083434Z",
     "shell.execute_reply.started": "2023-11-29T00:13:06.012436Z"
    }
   },
   "outputs": [],
   "source": [
    "productionModel.fit(productionInputs, productionTargets)"
   ]
  },
  {
   "cell_type": "code",
   "execution_count": null,
   "metadata": {
    "execution": {
     "iopub.execute_input": "2023-11-29T00:13:24.087271Z",
     "iopub.status.busy": "2023-11-29T00:13:24.086404Z",
     "iopub.status.idle": "2023-11-29T00:13:24.751689Z",
     "shell.execute_reply": "2023-11-29T00:13:24.750285Z",
     "shell.execute_reply.started": "2023-11-29T00:13:24.087223Z"
    }
   },
   "outputs": [],
   "source": [
    "productionModel.score(productionInputs, productionTargets)"
   ]
  },
  {
   "cell_type": "code",
   "execution_count": null,
   "metadata": {},
   "outputs": [],
   "source": []
  },
  {
   "cell_type": "markdown",
   "metadata": {},
   "source": [
    "### Making a submission"
   ]
  },
  {
   "cell_type": "code",
   "execution_count": null,
   "metadata": {
    "execution": {
     "iopub.execute_input": "2023-11-29T00:13:24.76215Z",
     "iopub.status.busy": "2023-11-29T00:13:24.758502Z",
     "iopub.status.idle": "2023-11-29T00:13:24.775877Z",
     "shell.execute_reply": "2023-11-29T00:13:24.774733Z",
     "shell.execute_reply.started": "2023-11-29T00:13:24.762083Z"
    }
   },
   "outputs": [],
   "source": [
    "import enefit\n",
    "env = enefit.make_env()\n",
    "iter_test = env.iter_test()"
   ]
  },
  {
   "cell_type": "code",
   "execution_count": null,
   "metadata": {
    "execution": {
     "iopub.execute_input": "2023-11-29T00:13:24.78569Z",
     "iopub.status.busy": "2023-11-29T00:13:24.782164Z",
     "iopub.status.idle": "2023-11-29T00:13:25.181594Z",
     "shell.execute_reply": "2023-11-29T00:13:25.18023Z",
     "shell.execute_reply.started": "2023-11-29T00:13:24.785638Z"
    }
   },
   "outputs": [],
   "source": [
    "(test, revealed_targets, client, weatherHistorical, weatherForecast,\n",
    "    electricityPrices, gasPrices, sample_prediction) = next(iter_test)"
   ]
  },
  {
   "cell_type": "code",
   "execution_count": null,
   "metadata": {
    "execution": {
     "iopub.execute_input": "2023-11-29T00:16:12.881855Z",
     "iopub.status.busy": "2023-11-29T00:16:12.881294Z",
     "iopub.status.idle": "2023-11-29T00:16:12.892478Z",
     "shell.execute_reply": "2023-11-29T00:16:12.891324Z",
     "shell.execute_reply.started": "2023-11-29T00:16:12.881805Z"
    }
   },
   "outputs": [],
   "source": [
    "pl.from_pandas(test)['prediction_datetime'].dtype"
   ]
  },
  {
   "cell_type": "code",
   "execution_count": null,
   "metadata": {},
   "outputs": [],
   "source": []
  },
  {
   "cell_type": "code",
   "execution_count": null,
   "metadata": {},
   "outputs": [],
   "source": []
  }
 ],
 "metadata": {
  "kaggle": {
   "accelerator": "none",
   "dataSources": [
    {
     "databundleVersionId": 7056256,
     "sourceId": 57236,
     "sourceType": "competition"
    }
   ],
   "dockerImageVersionId": 30579,
   "isGpuEnabled": false,
   "isInternetEnabled": false,
   "language": "python",
   "sourceType": "notebook"
  },
  "kernelspec": {
   "display_name": "Python 3",
   "language": "python",
   "name": "python3"
  },
  "language_info": {
   "codemirror_mode": {
    "name": "ipython",
    "version": 3
   },
   "file_extension": ".py",
   "mimetype": "text/x-python",
   "name": "python",
   "nbconvert_exporter": "python",
   "pygments_lexer": "ipython3",
   "version": "3.9.18"
  }
 },
 "nbformat": 4,
 "nbformat_minor": 4
}
