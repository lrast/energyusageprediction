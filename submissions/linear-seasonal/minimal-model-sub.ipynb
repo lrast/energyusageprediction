{
 "cells": [
  {
   "cell_type": "markdown",
   "id": "b26abfd7-c7e4-491b-8b91-e7a9b46983f7",
   "metadata": {},
   "source": [
    "# Minimal regression model to capture seasonal dependencies"
   ]
  },
  {
   "cell_type": "code",
   "execution_count": 1,
   "id": "9c6d6531-0608-4a1a-8ed8-690af93dd6e0",
   "metadata": {},
   "outputs": [],
   "source": [
    "import pandas as pd\n",
    "import numpy as np\n",
    "\n",
    "import polars as pl\n",
    "import datetime\n",
    "\n",
    "import lightgbm as lgb\n",
    "\n",
    "from sklearn.linear_model import LinearRegression, Lasso\n"
   ]
  },
  {
   "cell_type": "markdown",
   "id": "762236d0-b968-4446-86bb-d1e9c7c7464a",
   "metadata": {},
   "source": [
    "## Notebook Setup"
   ]
  },
  {
   "cell_type": "markdown",
   "id": "c6f7eff6-1966-4105-a2d6-bb01f50888a8",
   "metadata": {},
   "source": [
    "### Environment Setup"
   ]
  },
  {
   "cell_type": "code",
   "execution_count": 2,
   "id": "2cf08bc0-e759-4c3e-9e63-7b2bb20959b2",
   "metadata": {},
   "outputs": [],
   "source": [
    "__context__ = 'local'\n",
    "\n",
    "if __context__ == 'local':\n",
    "    trainDataLocation = '../data/train/'\n",
    "    from public_timeseries_testing_util import MockApi\n",
    "    env = MockApi()\n",
    "    iter_test = env.iter_test()\n",
    "\n",
    "\n",
    "elif __context__ == 'kaggle':\n",
    "    trainDataLocation = '/kaggle/input/predict-energy-behavior-of-prosumers/'\n",
    "    import enefit\n",
    "    env = enefit.make_env()\n",
    "    iter_test = env.iter_test()\n",
    "\n"
   ]
  },
  {
   "cell_type": "code",
   "execution_count": null,
   "id": "56a448d0-c72c-4a75-85b1-22d7ed21da5b",
   "metadata": {},
   "outputs": [],
   "source": []
  },
  {
   "cell_type": "markdown",
   "id": "6c096739-161e-4e41-a4fe-13d52c68ea39",
   "metadata": {},
   "source": [
    "## Train the model"
   ]
  },
  {
   "cell_type": "markdown",
   "id": "f1d3c375-37ab-4be9-bbcc-d5ab5689ab01",
   "metadata": {},
   "source": [
    "### Import and process training data"
   ]
  },
  {
   "cell_type": "code",
   "execution_count": 3,
   "id": "fd6a2bcd-f0ac-4263-a171-d86fae31abc1",
   "metadata": {},
   "outputs": [],
   "source": [
    "def format_dfs(test, client):\n",
    "    \"\"\" dataframe formatting for training and online use \"\"\"\n",
    "    # test formatting\n",
    "    test.dropna(axis='index', inplace=True)\n",
    "    test = test.rename(columns={'datetime':'prediction_datetime'})\n",
    "    test['prediction_datetime'] = pd.to_datetime(test['prediction_datetime'])\n",
    "    test = pl.from_pandas( test)\n",
    "    test = test.with_columns(\n",
    "                (pl.col('prediction_datetime').dt.date() +\n",
    "                    datetime.timedelta(days=-2) ).alias('date_when_predicting')\n",
    "              )\n",
    "\n",
    "    # client formatting\n",
    "    client['date'] = pd.to_datetime(client['date']).dt.date\n",
    "    client = pl.from_pandas(client)\n",
    "    \n",
    "    #return (test, revealed_targets, client, \n",
    "    #        weatherHistorical, weatherForecast,\n",
    "    #        electricityPrices, gasPrices, sample_prediction)\n",
    "\n",
    "    return test, client\n"
   ]
  },
  {
   "cell_type": "markdown",
   "id": "b9c95b71-935f-4758-9239-df430480b3d2",
   "metadata": {},
   "source": [
    "#### Date Note:\n",
    "We want to predict targets using the data from two days previous"
   ]
  },
  {
   "cell_type": "code",
   "execution_count": null,
   "id": "31d80f88-8110-4692-a22c-6d1c9b8e9b00",
   "metadata": {},
   "outputs": [],
   "source": []
  },
  {
   "cell_type": "code",
   "execution_count": 4,
   "id": "3fec933c-2802-47bd-b828-db6e1cab14e3",
   "metadata": {},
   "outputs": [],
   "source": [
    "train = pd.read_csv(trainDataLocation+'train.csv')\n",
    "clients = pd.read_csv(trainDataLocation+'client.csv')\n",
    "\n",
    "\n",
    "train, clients = format_dfs(train, clients)"
   ]
  },
  {
   "cell_type": "code",
   "execution_count": null,
   "id": "6feb8b32-8f3a-4715-a2bc-5b908a8767ab",
   "metadata": {},
   "outputs": [],
   "source": []
  },
  {
   "cell_type": "markdown",
   "id": "58292211-33c5-426f-8ebe-7c5440664228",
   "metadata": {},
   "source": [
    "### Making features"
   ]
  },
  {
   "cell_type": "code",
   "execution_count": 5,
   "id": "bb21e4d4-1dc5-473b-a1a7-0e6c19819ede",
   "metadata": {},
   "outputs": [],
   "source": [
    "# make deterministic time dependent features\n",
    "from statsmodels.tsa.deterministic import CalendarFourier, DeterministicProcess\n",
    "\n",
    "def make_date_process(train):\n",
    "    dates = pd.date_range( train['prediction_datetime'].dt.date().min(), train['prediction_datetime'].dt.date().max() )\n",
    "    fourier = CalendarFourier(freq=\"A\", order=6) \n",
    "    date_process = DeterministicProcess(dates,\n",
    "                           constant=True,\n",
    "                           order=0,\n",
    "                           seasonal=True,\n",
    "                           period=7,\n",
    "                           additional_terms=[fourier],\n",
    "                           drop=True\n",
    "                          )\n",
    "    return date_process\n",
    "\n",
    "\n",
    "# make possible unit identifiers \n",
    "from itertools import product\n",
    "\n",
    "def possible_identifiers_assembled(train):\n",
    "    \"\"\" create a categorical type with all combinations of county, is_buisness, and product_type \"\"\"\n",
    "    unique_counties = train['county'].unique()\n",
    "    unique_is_business = train['is_business'].unique()\n",
    "    unique_product_type = train['product_type'].unique()\n",
    "    \n",
    "    def string_representation(signature):\n",
    "        (county, is_business, product_type) = signature\n",
    "        return str(county) + '-' + str(is_business) + '-' + str(product_type)\n",
    "    \n",
    "    possible_ids = map( string_representation, product(unique_counties, unique_is_business, unique_product_type) )\n",
    "    \n",
    "    return pd.CategoricalDtype(possible_ids)\n",
    "\n",
    "def possible_identifiers(train):\n",
    "    return pd.CategoricalDtype( train['prediction_unit_id'].unique())\n"
   ]
  },
  {
   "cell_type": "code",
   "execution_count": null,
   "id": "177f72ee-24fd-465d-8ff4-006bead69dba",
   "metadata": {},
   "outputs": [],
   "source": []
  },
  {
   "cell_type": "code",
   "execution_count": 6,
   "id": "9f08afdb-25b7-4ec5-a517-9533212a55c7",
   "metadata": {},
   "outputs": [],
   "source": [
    "# make target features\n",
    "\n",
    "def make_targets(train):\n",
    "    \"\"\" Preprocess the training features, using log(x+1) transformed targets \"\"\"\n",
    "    train = train.drop(['county', 'is_business', 'product_type', 'prediction_datetime',\n",
    "                        'data_block_id', 'prediction_unit_id', 'date_when_predicting'])\n",
    "    return train.with_columns( np.log1p(pl.col('target')) )\n",
    "\n",
    "def raw_targets(predictions):\n",
    "    \"\"\" Undo the preprocessing to make the raw features \"\"\"\n",
    "    predictions['target'] = np.expm1(predictions['target'] )\n",
    "    return predictions\n"
   ]
  },
  {
   "cell_type": "code",
   "execution_count": 7,
   "id": "d7c0e313-be60-4d48-b840-17b2239de12c",
   "metadata": {},
   "outputs": [
    {
     "data": {
      "text/plain": [
       "<Axes: ylabel='Frequency'>"
      ]
     },
     "execution_count": 7,
     "metadata": {},
     "output_type": "execute_result"
    },
    {
     "data": {
      "image/png": "[encoded data removed]",
      "text/plain": [
       "<Figure size 640x480 with 1 Axes>"
      ]
     },
     "metadata": {},
     "output_type": "display_data"
    }
   ],
   "source": [
    "targets = make_targets(train)\n",
    "targets.to_pandas().plot(y='target', kind='hist', bins=15)"
   ]
  },
  {
   "cell_type": "markdown",
   "id": "a501067c-4f6f-4c72-bf7d-6fc19cd827a0",
   "metadata": {},
   "source": [
    "This target distribution, while not entirely normal is much closer than before"
   ]
  },
  {
   "cell_type": "code",
   "execution_count": null,
   "id": "192bd0f4-d921-4b85-843f-e152dbed5433",
   "metadata": {},
   "outputs": [],
   "source": [
    "\n"
   ]
  },
  {
   "cell_type": "code",
   "execution_count": 8,
   "id": "b9fde9ec-0398-4ad0-92ec-f9c8d5e24ebf",
   "metadata": {},
   "outputs": [],
   "source": [
    "def make_regression_features(train, clients, date_process, possible_ids):\n",
    "    \"\"\" input features for the regression\"\"\"\n",
    "    features = train.join(clients, \n",
    "                          left_on=['county', 'is_business', 'product_type', 'date_when_predicting'],\n",
    "                          right_on=['county', 'is_business', 'product_type', 'date'],\n",
    "                          how='inner' )\n",
    "\n",
    "    # add date and time features\n",
    "    features = features.with_columns( \n",
    "                                        pl.col('prediction_datetime').dt.date().alias('prediction_date'),\n",
    "                                        pl.col('prediction_datetime').dt.time().alias('prediction_time')\n",
    "                                        )\n",
    "\n",
    "    # features from the date process\n",
    "    date_features = date_process.range(\n",
    "                                       features['prediction_date'].min(),\n",
    "                                       features['prediction_date'].max()\n",
    "                                      ).reset_index()\n",
    "    date_features = pl.from_pandas( date_features ).with_columns(pl.col('index').dt.date())\n",
    "    features = features.join(date_features, left_on=['prediction_date'], right_on=['index'], how='left')\n",
    "\n",
    "    # time features:\n",
    "    # to add: local holidays\n",
    "    features = features.to_dummies('prediction_time', drop_first=True) # alternative idea: use Fourier time features for regularization\n",
    "    \n",
    "    \n",
    "\n",
    "    # Other covariates\n",
    "    features = features.with_columns( np.log1p( pl.col('installed_capacity')))\n",
    "\n",
    "    unit_ids = pl.from_pandas(pd.get_dummies(\n",
    "                                  pd.DataFrame(features['prediction_unit_id'], dtype=possible_ids, columns=['prediction_id_signature']),\n",
    "                                  dtype=int,\n",
    "                                  drop_first=True\n",
    "                            ))\n",
    "    #features = features.to_dummies('prediction_unit_id', drop_first=True)\n",
    "\n",
    "    \n",
    "    \n",
    "    # some of these features should be included in the future\n",
    "    columns_to_drop = ['target', 'data_block_id', 'data_block_id_right', 'prediction_date',\n",
    "                       'prediction_datetime', 'date_when_predicting', 'prediction_unit_id',\n",
    "                       'county', 'is_business', 'product_type', 'eic_count'\n",
    "                      ]\n",
    "    features = features.drop(columns_to_drop)\n",
    "    \n",
    "    return pl.concat([features, unit_ids], how='horizontal')\n"
   ]
  },
  {
   "cell_type": "code",
   "execution_count": null,
   "id": "302c96fd-7395-4906-ac3c-78e24953a43e",
   "metadata": {},
   "outputs": [],
   "source": []
  },
  {
   "cell_type": "markdown",
   "id": "276855c4-8c42-4f16-a2c5-d98086cb669f",
   "metadata": {},
   "source": [
    "### Process training features"
   ]
  },
  {
   "cell_type": "code",
   "execution_count": 9,
   "id": "92d166c1-340f-4967-bdd7-c2362f44f25d",
   "metadata": {},
   "outputs": [],
   "source": [
    "date_process = make_date_process(train)\n",
    "possible_ids = possible_identifiers(train)\n",
    "\n",
    "targets = make_targets(train)\n",
    "features = make_regression_features(train, clients, date_process, possible_ids)"
   ]
  },
  {
   "cell_type": "code",
   "execution_count": 10,
   "id": "bcc5d8ec-bc45-446d-a386-c72eefba8b14",
   "metadata": {},
   "outputs": [],
   "source": [
    "trainSet = targets.join(features, on='row_id', how='inner')\n",
    "productionSet = trainSet.filter(pl.col('is_consumption') == 0).drop(['is_consumption', 'is_consumption_right']).to_pandas().set_index('row_id')\n",
    "consumptionSet = trainSet.filter(pl.col('is_consumption') == 1).drop(['is_consumption', 'is_consumption_right']).to_pandas().set_index('row_id')"
   ]
  },
  {
   "cell_type": "code",
   "execution_count": 11,
   "id": "ab611d87-1bec-4d35-a410-d3b975214d42",
   "metadata": {},
   "outputs": [],
   "source": [
    "consumptionTargets = consumptionSet['target']\n",
    "consumptionInputs = consumptionSet.drop(columns='target')"
   ]
  },
  {
   "cell_type": "code",
   "execution_count": 12,
   "id": "76a9c9c5-d068-4023-86da-8a4cd5231e3f",
   "metadata": {},
   "outputs": [],
   "source": [
    "productionTargets = productionSet['target']\n",
    "productionInputs = productionSet.drop(columns='target')"
   ]
  },
  {
   "cell_type": "code",
   "execution_count": null,
   "id": "b846e59c-465a-4497-bf69-8146880a0fc4",
   "metadata": {},
   "outputs": [],
   "source": []
  },
  {
   "cell_type": "markdown",
   "id": "0cb24292-2fcd-4c7d-b538-e114025601bd",
   "metadata": {},
   "source": [
    "### Train the linear regression model"
   ]
  },
  {
   "cell_type": "code",
   "execution_count": 13,
   "id": "7848043a-faac-4002-a19e-23e4cf882b4b",
   "metadata": {},
   "outputs": [],
   "source": [
    "consumptionModel = LinearRegression()\n",
    "productionModel = LinearRegression()"
   ]
  },
  {
   "cell_type": "code",
   "execution_count": 14,
   "id": "1f778ec9-7ef3-4d63-bbd5-b49cc38d6f12",
   "metadata": {},
   "outputs": [
    {
     "data": {
      "text/html": [
       "<style>#sk-container-id-1 {color: black;}#sk-container-id-1 pre{padding: 0;}#sk-container-id-1 div.sk-toggleable {background-color: white;}#sk-container-id-1 label.sk-toggleable__label {cursor: pointer;display: block;width: 100%;margin-bottom: 0;padding: 0.3em;box-sizing: border-box;text-align: center;}#sk-container-id-1 label.sk-toggleable__label-arrow:before {content: \"▸\";float: left;margin-right: 0.25em;color: #696969;}#sk-container-id-1 label.sk-toggleable__label-arrow:hover:before {color: black;}#sk-container-id-1 div.sk-estimator:hover label.sk-toggleable__label-arrow:before {color: black;}#sk-container-id-1 div.sk-toggleable__content {max-height: 0;max-width: 0;overflow: hidden;text-align: left;background-color: #f0f8ff;}#sk-container-id-1 div.sk-toggleable__content pre {margin: 0.2em;color: black;border-radius: 0.25em;background-color: #f0f8ff;}#sk-container-id-1 input.sk-toggleable__control:checked~div.sk-toggleable__content {max-height: 200px;max-width: 100%;overflow: auto;}#sk-container-id-1 input.sk-toggleable__control:checked~label.sk-toggleable__label-arrow:before {content: \"▾\";}#sk-container-id-1 div.sk-estimator input.sk-toggleable__control:checked~label.sk-toggleable__label {background-color: #d4ebff;}#sk-container-id-1 div.sk-label input.sk-toggleable__control:checked~label.sk-toggleable__label {background-color: #d4ebff;}#sk-container-id-1 input.sk-hidden--visually {border: 0;clip: rect(1px 1px 1px 1px);clip: rect(1px, 1px, 1px, 1px);height: 1px;margin: -1px;overflow: hidden;padding: 0;position: absolute;width: 1px;}#sk-container-id-1 div.sk-estimator {font-family: monospace;background-color: #f0f8ff;border: 1px dotted black;border-radius: 0.25em;box-sizing: border-box;margin-bottom: 0.5em;}#sk-container-id-1 div.sk-estimator:hover {background-color: #d4ebff;}#sk-container-id-1 div.sk-parallel-item::after {content: \"\";width: 100%;border-bottom: 1px solid gray;flex-grow: 1;}#sk-container-id-1 div.sk-label:hover label.sk-toggleable__label {background-color: #d4ebff;}#sk-container-id-1 div.sk-serial::before {content: \"\";position: absolute;border-left: 1px solid gray;box-sizing: border-box;top: 0;bottom: 0;left: 50%;z-index: 0;}#sk-container-id-1 div.sk-serial {display: flex;flex-direction: column;align-items: center;background-color: white;padding-right: 0.2em;padding-left: 0.2em;position: relative;}#sk-container-id-1 div.sk-item {position: relative;z-index: 1;}#sk-container-id-1 div.sk-parallel {display: flex;align-items: stretch;justify-content: center;background-color: white;position: relative;}#sk-container-id-1 div.sk-item::before, #sk-container-id-1 div.sk-parallel-item::before {content: \"\";position: absolute;border-left: 1px solid gray;box-sizing: border-box;top: 0;bottom: 0;left: 50%;z-index: -1;}#sk-container-id-1 div.sk-parallel-item {display: flex;flex-direction: column;z-index: 1;position: relative;background-color: white;}#sk-container-id-1 div.sk-parallel-item:first-child::after {align-self: flex-end;width: 50%;}#sk-container-id-1 div.sk-parallel-item:last-child::after {align-self: flex-start;width: 50%;}#sk-container-id-1 div.sk-parallel-item:only-child::after {width: 0;}#sk-container-id-1 div.sk-dashed-wrapped {border: 1px dashed gray;margin: 0 0.4em 0.5em 0.4em;box-sizing: border-box;padding-bottom: 0.4em;background-color: white;}#sk-container-id-1 div.sk-label label {font-family: monospace;font-weight: bold;display: inline-block;line-height: 1.2em;}#sk-container-id-1 div.sk-label-container {text-align: center;}#sk-container-id-1 div.sk-container {/* jupyter's `normalize.less` sets `[hidden] { display: none; }` but bootstrap.min.css set `[hidden] { display: none !important; }` so we also need the `!important` here to be able to override the default hidden behavior on the sphinx rendered scikit-learn.org. See: https://github.com/scikit-learn/scikit-learn/issues/21755 */display: inline-block !important;position: relative;}#sk-container-id-1 div.sk-text-repr-fallback {display: none;}</style><div id=\"sk-container-id-1\" class=\"sk-top-container\"><div class=\"sk-text-repr-fallback\"><pre>LinearRegression()</pre><b>In a Jupyter environment, please rerun this cell to show the HTML representation or trust the notebook. <br />On GitHub, the HTML representation is unable to render, please try loading this page with nbviewer.org.</b></div><div class=\"sk-container\" hidden><div class=\"sk-item\"><div class=\"sk-estimator sk-toggleable\"><input class=\"sk-toggleable__control sk-hidden--visually\" id=\"sk-estimator-id-1\" type=\"checkbox\" checked><label for=\"sk-estimator-id-1\" class=\"sk-toggleable__label sk-toggleable__label-arrow\">LinearRegression</label><div class=\"sk-toggleable__content\"><pre>LinearRegression()</pre></div></div></div></div></div>"
      ],
      "text/plain": [
       "LinearRegression()"
      ]
     },
     "execution_count": 14,
     "metadata": {},
     "output_type": "execute_result"
    }
   ],
   "source": [
    "consumptionModel.fit(consumptionInputs, consumptionTargets)"
   ]
  },
  {
   "cell_type": "code",
   "execution_count": 15,
   "id": "5c93a03a-4308-4dad-b4a2-5f3ca023dfbc",
   "metadata": {},
   "outputs": [
    {
     "data": {
      "text/plain": [
       "0.8849048473857657"
      ]
     },
     "execution_count": 15,
     "metadata": {},
     "output_type": "execute_result"
    }
   ],
   "source": [
    "consumptionModel.score(consumptionInputs, consumptionTargets)"
   ]
  },
  {
   "cell_type": "code",
   "execution_count": 16,
   "id": "8133efbb-d199-496a-9a5e-d283708b50bd",
   "metadata": {},
   "outputs": [
    {
     "data": {
      "text/html": [
       "<style>#sk-container-id-2 {color: black;}#sk-container-id-2 pre{padding: 0;}#sk-container-id-2 div.sk-toggleable {background-color: white;}#sk-container-id-2 label.sk-toggleable__label {cursor: pointer;display: block;width: 100%;margin-bottom: 0;padding: 0.3em;box-sizing: border-box;text-align: center;}#sk-container-id-2 label.sk-toggleable__label-arrow:before {content: \"▸\";float: left;margin-right: 0.25em;color: #696969;}#sk-container-id-2 label.sk-toggleable__label-arrow:hover:before {color: black;}#sk-container-id-2 div.sk-estimator:hover label.sk-toggleable__label-arrow:before {color: black;}#sk-container-id-2 div.sk-toggleable__content {max-height: 0;max-width: 0;overflow: hidden;text-align: left;background-color: #f0f8ff;}#sk-container-id-2 div.sk-toggleable__content pre {margin: 0.2em;color: black;border-radius: 0.25em;background-color: #f0f8ff;}#sk-container-id-2 input.sk-toggleable__control:checked~div.sk-toggleable__content {max-height: 200px;max-width: 100%;overflow: auto;}#sk-container-id-2 input.sk-toggleable__control:checked~label.sk-toggleable__label-arrow:before {content: \"▾\";}#sk-container-id-2 div.sk-estimator input.sk-toggleable__control:checked~label.sk-toggleable__label {background-color: #d4ebff;}#sk-container-id-2 div.sk-label input.sk-toggleable__control:checked~label.sk-toggleable__label {background-color: #d4ebff;}#sk-container-id-2 input.sk-hidden--visually {border: 0;clip: rect(1px 1px 1px 1px);clip: rect(1px, 1px, 1px, 1px);height: 1px;margin: -1px;overflow: hidden;padding: 0;position: absolute;width: 1px;}#sk-container-id-2 div.sk-estimator {font-family: monospace;background-color: #f0f8ff;border: 1px dotted black;border-radius: 0.25em;box-sizing: border-box;margin-bottom: 0.5em;}#sk-container-id-2 div.sk-estimator:hover {background-color: #d4ebff;}#sk-container-id-2 div.sk-parallel-item::after {content: \"\";width: 100%;border-bottom: 1px solid gray;flex-grow: 1;}#sk-container-id-2 div.sk-label:hover label.sk-toggleable__label {background-color: #d4ebff;}#sk-container-id-2 div.sk-serial::before {content: \"\";position: absolute;border-left: 1px solid gray;box-sizing: border-box;top: 0;bottom: 0;left: 50%;z-index: 0;}#sk-container-id-2 div.sk-serial {display: flex;flex-direction: column;align-items: center;background-color: white;padding-right: 0.2em;padding-left: 0.2em;position: relative;}#sk-container-id-2 div.sk-item {position: relative;z-index: 1;}#sk-container-id-2 div.sk-parallel {display: flex;align-items: stretch;justify-content: center;background-color: white;position: relative;}#sk-container-id-2 div.sk-item::before, #sk-container-id-2 div.sk-parallel-item::before {content: \"\";position: absolute;border-left: 1px solid gray;box-sizing: border-box;top: 0;bottom: 0;left: 50%;z-index: -1;}#sk-container-id-2 div.sk-parallel-item {display: flex;flex-direction: column;z-index: 1;position: relative;background-color: white;}#sk-container-id-2 div.sk-parallel-item:first-child::after {align-self: flex-end;width: 50%;}#sk-container-id-2 div.sk-parallel-item:last-child::after {align-self: flex-start;width: 50%;}#sk-container-id-2 div.sk-parallel-item:only-child::after {width: 0;}#sk-container-id-2 div.sk-dashed-wrapped {border: 1px dashed gray;margin: 0 0.4em 0.5em 0.4em;box-sizing: border-box;padding-bottom: 0.4em;background-color: white;}#sk-container-id-2 div.sk-label label {font-family: monospace;font-weight: bold;display: inline-block;line-height: 1.2em;}#sk-container-id-2 div.sk-label-container {text-align: center;}#sk-container-id-2 div.sk-container {/* jupyter's `normalize.less` sets `[hidden] { display: none; }` but bootstrap.min.css set `[hidden] { display: none !important; }` so we also need the `!important` here to be able to override the default hidden behavior on the sphinx rendered scikit-learn.org. See: https://github.com/scikit-learn/scikit-learn/issues/21755 */display: inline-block !important;position: relative;}#sk-container-id-2 div.sk-text-repr-fallback {display: none;}</style><div id=\"sk-container-id-2\" class=\"sk-top-container\"><div class=\"sk-text-repr-fallback\"><pre>LinearRegression()</pre><b>In a Jupyter environment, please rerun this cell to show the HTML representation or trust the notebook. <br />On GitHub, the HTML representation is unable to render, please try loading this page with nbviewer.org.</b></div><div class=\"sk-container\" hidden><div class=\"sk-item\"><div class=\"sk-estimator sk-toggleable\"><input class=\"sk-toggleable__control sk-hidden--visually\" id=\"sk-estimator-id-2\" type=\"checkbox\" checked><label for=\"sk-estimator-id-2\" class=\"sk-toggleable__label sk-toggleable__label-arrow\">LinearRegression</label><div class=\"sk-toggleable__content\"><pre>LinearRegression()</pre></div></div></div></div></div>"
      ],
      "text/plain": [
       "LinearRegression()"
      ]
     },
     "execution_count": 16,
     "metadata": {},
     "output_type": "execute_result"
    }
   ],
   "source": [
    "productionModel.fit(productionInputs, productionTargets)"
   ]
  },
  {
   "cell_type": "code",
   "execution_count": 17,
   "id": "c60c0f36-e9fc-4a86-864f-2f079172736f",
   "metadata": {},
   "outputs": [
    {
     "data": {
      "text/plain": [
       "0.7000043924580849"
      ]
     },
     "execution_count": 17,
     "metadata": {},
     "output_type": "execute_result"
    }
   ],
   "source": [
    "productionModel.score(productionInputs, productionTargets)"
   ]
  },
  {
   "cell_type": "code",
   "execution_count": null,
   "id": "0bd1e448-1d63-4db2-8910-c90907309d04",
   "metadata": {},
   "outputs": [],
   "source": []
  },
  {
   "cell_type": "code",
   "execution_count": null,
   "id": "7ea8ee04-fbe9-4678-a98e-19468bf44b00",
   "metadata": {},
   "outputs": [],
   "source": []
  },
  {
   "cell_type": "markdown",
   "id": "cd90026d-102d-43c4-b0c7-ccfff002a77e",
   "metadata": {},
   "source": [
    "### Make predictions"
   ]
  },
  {
   "cell_type": "code",
   "execution_count": 18,
   "id": "014c4a1e-d46c-4fb3-939c-09bb46963ebf",
   "metadata": {},
   "outputs": [],
   "source": [
    "for (test, revealed_targets, client, weatherHistorical, weatherForecast,\n",
    "    electricityPrices, gasPrices, sample_prediction) in iter_test:\n",
    "\n",
    "    test, client = format_dfs(test, client)\n",
    "    features = make_regression_features(test, client, date_process, possible_ids)\n",
    "\n",
    "    productionFeatures = features.filter(pl.col('is_consumption') == 0\n",
    "                                        ).drop(['is_consumption', 'currently_scored']\n",
    "                                              ).to_pandas().set_index('row_id')\n",
    "\n",
    "    consumptionFeatures = features.filter(pl.col('is_consumption') == 1\n",
    "                                         ).drop(['is_consumption', 'currently_scored']\n",
    "                                               ).to_pandas().set_index('row_id')\n",
    "    \n",
    "    productionPredictions = pd.DataFrame({'row_id': productionFeatures.index,\n",
    "                                          'target':productionModel.predict( productionFeatures)})\n",
    "    consumptionPredictions = pd.DataFrame({'row_id': consumptionFeatures.index,\n",
    "                                          'target':consumptionModel.predict( consumptionFeatures)})\n",
    "\n",
    "    fullPredictions = raw_targets(pd.concat([productionPredictions, consumptionPredictions]))\n",
    "    prediction = sample_prediction.merge(fullPredictions, on='row_id', how='left', suffixes=['_old', '']\n",
    "                                        ).drop(columns='target_old').fillna(0.0)\n",
    "    env.predict(prediction)\n"
   ]
  },
  {
   "cell_type": "code",
   "execution_count": null,
   "id": "44a09944-1dcf-49e6-a144-ebcaf800ced5",
   "metadata": {},
   "outputs": [],
   "source": []
  },
  {
   "cell_type": "code",
   "execution_count": 20,
   "id": "1f673b71-5225-4540-b0d8-e63dd80bda64",
   "metadata": {},
   "outputs": [
    {
     "data": {
      "text/plain": [
       "array([ 7.55197828e-01, -3.42685543e-02, -4.70023382e-02, -4.88899835e-02,\n",
       "       -4.78312410e-02, -3.63326157e-02,  2.79604253e-02,  5.76261561e-02,\n",
       "        5.40204528e-04, -1.35803982e-01, -2.88043293e-01, -3.82944627e-01,\n",
       "       -4.45290632e-01, -4.30191261e-01, -4.05080953e-01, -3.29901837e-01,\n",
       "       -2.39222595e-01, -1.20309445e-01,  4.44545353e-03,  9.61319693e-02,\n",
       "        1.44873704e-01,  1.48277339e-01,  1.08683216e-01,  3.93451775e-02,\n",
       "       -5.32875093e+10,  4.79739916e-04, -1.45709411e-02, -1.56863074e-01,\n",
       "       -1.98574301e-01, -2.08493631e-02,  1.06876631e-02,  4.89078107e-02,\n",
       "        6.33761766e-01,  2.03113556e-02, -5.60760498e-04, -1.31263733e-02,\n",
       "        4.08554077e-03, -3.09305191e-02, -1.43432617e-02, -1.24161243e-02,\n",
       "       -1.21231079e-02, -1.11961365e-03, -2.93941498e-02, -4.86949325e-01,\n",
       "        1.13724947e-01,  1.21756369e+00,  1.05924189e+00,  1.81348777e+00,\n",
       "       -1.07659966e+00, -9.75327969e-01,  8.16710144e-02, -9.35875788e-01,\n",
       "        1.43383554e+00, -8.12879518e-01, -1.02556622e+00,  7.54891932e-02,\n",
       "        8.99915218e-01, -1.41343117e+00, -1.30211076e+00,  5.37869573e-01,\n",
       "        1.10203481e+00, -7.59711310e-01, -7.95858026e-01,  9.74370003e-01,\n",
       "        5.74013028e-01,  7.88259625e-01,  4.84795421e-01, -7.91898549e-01,\n",
       "       -9.71074581e-01, -6.92575693e-01,  2.94394255e-01,  5.75122297e-01,\n",
       "        8.31984162e-01, -1.39111996e+00, -1.10527086e+00,  3.50579381e-01,\n",
       "       -8.19274992e-01, -6.58026099e-01, -3.57728846e-01,  4.14915383e-01,\n",
       "       -1.13705018e+00, -8.50514531e-01, -3.06146398e-01,  7.03404903e-01,\n",
       "        1.30147803e+00, -5.99827826e-01, -6.88707352e-01, -3.83815885e-01,\n",
       "        7.10580468e-01, -5.32949448e-01,  1.87340558e+00,  2.00799675e+00,\n",
       "       -1.39100772e+00, -1.05253398e+00,  5.62274456e-01, -1.12428162e+00,\n",
       "       -7.39463449e-01,  2.65063941e-01,  1.06463993e+00, -5.22222430e-01,\n",
       "       -8.60570550e-01, -5.56609392e-01,  3.99288356e-01,  9.38144684e-01,\n",
       "       -1.00232315e+00, -8.16910744e-01,  1.03491211e+00,  5.41068733e-01,\n",
       "        1.05648041e-02,  1.45912927e+00, -1.17681122e+00])"
      ]
     },
     "execution_count": 20,
     "metadata": {},
     "output_type": "execute_result"
    }
   ],
   "source": [
    "consumptionModel.coef_"
   ]
  },
  {
   "cell_type": "markdown",
   "id": "b02216ff-ab9e-435d-a666-07f6e570c924",
   "metadata": {},
   "source": [
    "## Note taking: eliminating linear redundancies in the covariates\n",
    "\n",
    "### good:\n",
    "- capacity\n",
    "- fourier components\n",
    "\n",
    "### bad:\n",
    "- prediction id - large or zero"
   ]
  },
  {
   "cell_type": "code",
   "execution_count": null,
   "id": "e32dfa25-95b1-4e2e-b3e1-85fefc3a2eea",
   "metadata": {},
   "outputs": [],
   "source": []
  },
  {
   "cell_type": "code",
   "execution_count": null,
   "id": "43a08109-b04d-4d2a-b3e1-22a10a81f364",
   "metadata": {},
   "outputs": [],
   "source": []
  },
  {
   "cell_type": "code",
   "execution_count": null,
   "id": "48e0d212-5060-4041-869f-4ae0fcfdff89",
   "metadata": {},
   "outputs": [],
   "source": []
  },
  {
   "cell_type": "code",
   "execution_count": null,
   "id": "6c17f188-02fa-4f52-921a-275f27639859",
   "metadata": {},
   "outputs": [],
   "source": []
  },
  {
   "cell_type": "code",
   "execution_count": null,
   "id": "c48b8fb2-4289-4da2-9d2a-95b9fcfbd9f9",
   "metadata": {},
   "outputs": [],
   "source": []
  }
 ],
 "metadata": {
  "kernelspec": {
   "display_name": "Python 3",
   "language": "python",
   "name": "python3"
  },
  "language_info": {
   "codemirror_mode": {
    "name": "ipython",
    "version": 3
   },
   "file_extension": ".py",
   "mimetype": "text/x-python",
   "name": "python",
   "nbconvert_exporter": "python",
   "pygments_lexer": "ipython3",
   "version": "3.9.18"
  }
 },
 "nbformat": 4,
 "nbformat_minor": 5
}
