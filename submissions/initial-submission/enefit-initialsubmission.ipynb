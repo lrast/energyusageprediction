{
 "cells": [
  {
   "cell_type": "markdown",
   "metadata": {},
   "source": [
    "# Initial submission notebook\n",
    "\n",
    "Working out the submission part of the pipeline with a very simple example"
   ]
  },
  {
   "cell_type": "code",
   "execution_count": null,
   "metadata": {
    "_cell_guid": "b1076dfc-b9ad-4769-8c92-a6c4dae69d19",
    "_uuid": "8f2839f25d086af736a60e9eeb907d3b93b6e0e5",
    "execution": {
     "iopub.execute_input": "2023-11-20T00:23:54.18486Z",
     "iopub.status.busy": "2023-11-20T00:23:54.184407Z",
     "iopub.status.idle": "2023-11-20T00:23:54.599193Z",
     "shell.execute_reply": "2023-11-20T00:23:54.598202Z",
     "shell.execute_reply.started": "2023-11-20T00:23:54.184823Z"
    }
   },
   "outputs": [],
   "source": [
    "import pandas as pd\n",
    "\n",
    "import enefit\n",
    "env = enefit.make_env()\n",
    "iter_test = env.iter_test()"
   ]
  },
  {
   "cell_type": "markdown",
   "metadata": {},
   "source": [
    "## Very simple prediction method for now:\n",
    "\n",
    "Use the equivalent datapoint from the previous day to predict today."
   ]
  },
  {
   "cell_type": "code",
   "execution_count": null,
   "metadata": {
    "execution": {
     "iopub.execute_input": "2023-11-20T00:23:54.60221Z",
     "iopub.status.busy": "2023-11-20T00:23:54.601305Z",
     "iopub.status.idle": "2023-11-20T00:23:54.61038Z",
     "shell.execute_reply": "2023-11-20T00:23:54.609268Z",
     "shell.execute_reply.started": "2023-11-20T00:23:54.602165Z"
    }
   },
   "outputs": [],
   "source": [
    "def makePredictions(test, revealed_targets):\n",
    "    test = test.assign(time=pd.to_datetime(test.prediction_datetime).dt.time)\n",
    "    revealed_targets = revealed_targets.assign(\n",
    "                        time=pd.to_datetime(revealed_targets.datetime).dt.time\n",
    "                        )\n",
    "        \n",
    "    id_keys = ['time', 'prediction_unit_id', 'is_consumption']\n",
    "    merge_id_key = test[id_keys+['row_id']].merge(\n",
    "                            revealed_targets[id_keys+['target']],\n",
    "                            on=id_keys, how=\"left\"\n",
    "                            )\n",
    "    return merge_id_key.fillna(0.0).sort_values('row_id')"
   ]
  },
  {
   "cell_type": "code",
   "execution_count": null,
   "metadata": {
    "execution": {
     "iopub.execute_input": "2023-11-20T00:23:54.612294Z",
     "iopub.status.busy": "2023-11-20T00:23:54.611858Z",
     "iopub.status.idle": "2023-11-20T00:23:55.248538Z",
     "shell.execute_reply": "2023-11-20T00:23:55.247397Z",
     "shell.execute_reply.started": "2023-11-20T00:23:54.612253Z"
    }
   },
   "outputs": [],
   "source": [
    "counter = 0\n",
    "\n",
    "for (test, revealed_targets, client, weatherHistorical, weatherForecast,\n",
    "    electricityPrices, gasPrices, sample_prediction) in iter_test:\n",
    "\n",
    "    # requirements before we make changes\n",
    "    required_dtypes = sample_prediction.dtypes\n",
    "    required_shape = sample_prediction.shape\n",
    "    required_rows = pd.DataFrame()\n",
    "    required_rows.loc[:, 'row_id'] = sample_prediction.row_id\n",
    "\n",
    "    \n",
    "    predictions = makePredictions(test, revealed_targets)\n",
    "    \n",
    "    sample_prediction.loc[:, 'target'] = predictions.loc[: ,'target']\n",
    "    \n",
    "    # ensure assumptions about the data and submissions\n",
    "    if (test.row_id != sample_prediction.row_id).any():\n",
    "        raise Exception('test and sample_prediction mismatch')\n",
    "    \n",
    "    if (predictions.row_id != sample_prediction.row_id).any():\n",
    "        raise Expection('Missing or misaligned rows in the predictions')\n",
    "    \n",
    "    if sample_prediction.isna().any().any():\n",
    "        raise Exception('Nan values in the submission')\n",
    "\n",
    "    if (sample_prediction.dtypes != required_dtypes).any():\n",
    "        raise Exception('The submission changes the data types')\n",
    "\n",
    "    if (sample_prediction.shape != required_shape):\n",
    "        raise Exception('The submission changes the shape')\n",
    "        \n",
    "    if (sample_prediction.row_id != required_rows.row_id).any():\n",
    "        raise Exception('The submission changes the row ids')\n",
    "    \n",
    "    env.predict(sample_prediction)\n",
    "    counter += 1\n",
    "    "
   ]
  },
  {
   "cell_type": "code",
   "execution_count": null,
   "metadata": {
    "execution": {
     "iopub.execute_input": "2023-11-20T00:27:58.120983Z",
     "iopub.status.busy": "2023-11-20T00:27:58.120542Z",
     "iopub.status.idle": "2023-11-20T00:27:58.136824Z",
     "shell.execute_reply": "2023-11-20T00:27:58.135609Z",
     "shell.execute_reply.started": "2023-11-20T00:27:58.120949Z"
    }
   },
   "outputs": [],
   "source": [
    "sample_prediction"
   ]
  },
  {
   "cell_type": "code",
   "execution_count": null,
   "metadata": {},
   "outputs": [],
   "source": []
  },
  {
   "cell_type": "code",
   "execution_count": null,
   "metadata": {},
   "outputs": [],
   "source": []
  },
  {
   "cell_type": "code",
   "execution_count": null,
   "metadata": {},
   "outputs": [],
   "source": []
  },
  {
   "cell_type": "code",
   "execution_count": null,
   "metadata": {},
   "outputs": [],
   "source": []
  }
 ],
 "metadata": {
  "kaggle": {
   "accelerator": "none",
   "dataSources": [
    {
     "databundleVersionId": 7056256,
     "sourceId": 57236,
     "sourceType": "competition"
    }
   ],
   "dockerImageVersionId": 30579,
   "isGpuEnabled": false,
   "isInternetEnabled": false,
   "language": "python",
   "sourceType": "notebook"
  },
  "kernelspec": {
   "display_name": "Python 3",
   "language": "python",
   "name": "python3"
  },
  "language_info": {
   "codemirror_mode": {
    "name": "ipython",
    "version": 3
   },
   "file_extension": ".py",
   "mimetype": "text/x-python",
   "name": "python",
   "nbconvert_exporter": "python",
   "pygments_lexer": "ipython3",
   "version": "3.9.18"
  }
 },
 "nbformat": 4,
 "nbformat_minor": 4
}
